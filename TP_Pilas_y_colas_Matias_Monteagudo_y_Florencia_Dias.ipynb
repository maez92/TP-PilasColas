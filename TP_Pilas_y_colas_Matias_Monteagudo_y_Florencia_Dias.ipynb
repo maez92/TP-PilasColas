{
  "nbformat": 4,
  "nbformat_minor": 0,
  "metadata": {
    "colab": {
      "name": "TP Pilas y colas - Matias Monteagudo y Florencia Dias ",
      "provenance": [],
      "collapsed_sections": [
        "fEGJl6hkOs9t",
        "_nvD-NfxO9w7",
        "Eh4lmEHePJ19",
        "HTLfdzgwPb3S",
        "02FCd6DtPxo6",
        "3wS2gQvefWpf"
      ]
    },
    "kernelspec": {
      "display_name": "Python 3",
      "name": "python3"
    },
    "language_info": {
      "name": "python"
    }
  },
  "cells": [
    {
      "cell_type": "markdown",
      "metadata": {
        "id": "fEGJl6hkOs9t"
      },
      "source": [
        "# Implementación del TDA GeneroLibro"
      ]
    },
    {
      "cell_type": "code",
      "metadata": {
        "colab": {
          "base_uri": "https://localhost:8080/"
        },
        "id": "AVBrpeCQcQYW",
        "outputId": "44872d20-a520-4f9e-94fb-446d56062bac"
      },
      "source": [
        "from enum import Enum\n",
        "\n",
        "class GeneroLibro(int,Enum):\n",
        "  Teatro = 0\n",
        "  Poesia = 1\n",
        "  Narracion = 2\n",
        "\n",
        "Teatro = GeneroLibro.Teatro\n",
        "Poesía = GeneroLibro.Poesia\n",
        "Narración = GeneroLibro.Narracion\n",
        "\n",
        "print('Nombre:',Teatro.name)\n",
        "print('Valor:',Teatro.value)\n",
        "print('Tipo:',Teatro)"
      ],
      "execution_count": 41,
      "outputs": [
        {
          "output_type": "stream",
          "text": [
            "Nombre: Teatro\n",
            "Valor: 0\n",
            "Tipo: GeneroLibro.Teatro\n"
          ],
          "name": "stdout"
        }
      ]
    },
    {
      "cell_type": "markdown",
      "metadata": {
        "id": "_nvD-NfxO9w7"
      },
      "source": [
        "# Implementación del TDA TipoLibro"
      ]
    },
    {
      "cell_type": "code",
      "metadata": {
        "colab": {
          "base_uri": "https://localhost:8080/"
        },
        "id": "LfjXTrUDkFNc",
        "outputId": "8596b2ff-20fc-418e-9e06-0ec29524d688"
      },
      "source": [
        "from enum import Enum\n",
        "\n",
        "class TipoLibro(int,Enum):  \n",
        "  Nacional= 0\n",
        "  Internacional = 1\n",
        "\n",
        "Internacional = TipoLibro.Internacional\n",
        "Nacional = TipoLibro.Nacional\n",
        "\n",
        "print('Tipo:',Internacional)\n",
        "print('Nombre:',Internacional.name)"
      ],
      "execution_count": 42,
      "outputs": [
        {
          "output_type": "stream",
          "text": [
            "Tipo: TipoLibro.Internacional\n",
            "Nombre: Internacional\n"
          ],
          "name": "stdout"
        }
      ]
    },
    {
      "cell_type": "markdown",
      "metadata": {
        "id": "Eh4lmEHePJ19"
      },
      "source": [
        "# Implementación del TDA Libro"
      ]
    },
    {
      "cell_type": "code",
      "metadata": {
        "id": "LjvrXxEUJXDk"
      },
      "source": [
        "class Libro():\n",
        "  def __init__(self, codigo, genero, nacionalidadDeAutor, nombre = None):\n",
        "    self.codigo = validaCodigo(codigo)\n",
        "    self.genero = validaGenero(genero)\n",
        "    self.nacionalidadDeAutor = validaNacionalidad(nacionalidadDeAutor)\n",
        "    self.nombre = nombre\n",
        "\n",
        "  def __repr__(self):\n",
        "    if self.nombre:\n",
        "      cadenaPrint = str(self.nombre)\n",
        "    else:\n",
        "      cadenaPrint = str(self.codigo)\n",
        "    return cadenaPrint\n",
        "\n",
        "  def nacionalidadDeAutor(self):\n",
        "    return self.nacionalidadDeAutor\n",
        "\n",
        "  def genero(self):\n",
        "    return self.genero\n",
        "\n",
        "  def codigo(self):\n",
        "    return self.codigo\n",
        "\n",
        "def validaCodigo(codigo):\n",
        "  if codigo[0:3].isalpha() and codigo[3:8].isnumeric() and len(codigo) == 8:\n",
        "    return codigo\n",
        "  else:\n",
        "    raise Exception('El codigo \"' + str(codigo) + '\" invalido, el codigo debe estar compuesto por 3 letras y 5 números')\n",
        "\n",
        "def validaGenero(genero):\n",
        "  if isinstance(genero,GeneroLibro):\n",
        "    return genero\n",
        "  else:\n",
        "    raise Exception( 'El genero \"' + str(genero) + '\" invalido, el genero debe ser GeneroLibro.Teatro / GeneroLibro.Poesia / GeneroLibro.Narración')\n",
        "\n",
        "def validaNacionalidad(tipoNacionalidad):\n",
        "  if isinstance(tipoNacionalidad,TipoLibro):\n",
        "    return tipoNacionalidad\n",
        "  else:\n",
        "    raise Exception( 'El tipo nacionalidad \"' + str(tipoNacionalidad) + '\" invalido, el tipo de nacionalidad debe ser TipoLibro.Nacional / TipoLibro.Internacional')\n"
      ],
      "execution_count": 43,
      "outputs": []
    },
    {
      "cell_type": "markdown",
      "metadata": {
        "id": "HTLfdzgwPb3S"
      },
      "source": [
        "# Implementación del TDA Pila"
      ]
    },
    {
      "cell_type": "code",
      "metadata": {
        "id": "ZCUvGxK3lidf"
      },
      "source": [
        "class Pila:\n",
        "  def __init__(self,elemento = None):\n",
        "    self.pila = []\n",
        "    if elemento:\n",
        "      for valor in elemento:\n",
        "        self.pila.append(valor)\n",
        "\n",
        "  def vaciarPila(self):\n",
        "    for elemento in range(len(self.pila)):\n",
        "      self.pila.pop()\n",
        "\n",
        "  def apilar(self,elemento):\n",
        "    self.pila.append(elemento)\n",
        "\n",
        "  def desapilar(self):\n",
        "    if not self.esVacía():\n",
        "      return self.pila.pop()\n",
        "\n",
        "  def obtener(self):\n",
        "    return self.pila[len(self.pila) -1]\n",
        "\n",
        "  def clonarPila(self):\n",
        "    clonDePila = Pila()\n",
        "    for elemento in self.pila:\n",
        "      clonDePila.apilar(elemento)\n",
        "    return clonDePila\n",
        "\n",
        "  def tamaño(self):\n",
        "    return len(self.pila)\n",
        "\n",
        "  def esVacía(self):\n",
        "    return len(self.pila) == 0\n",
        "    \n",
        "  def __repr__(self):\n",
        "    return str(self.pila)"
      ],
      "execution_count": 44,
      "outputs": []
    },
    {
      "cell_type": "markdown",
      "metadata": {
        "id": "Mpbno4VkPhVX"
      },
      "source": [
        "# Implementación del TDA Estanteria"
      ]
    },
    {
      "cell_type": "code",
      "metadata": {
        "id": "S3qQUwJDgqWZ"
      },
      "source": [
        "class Estanteria():\n",
        "  def __init__(self,nroDeEstanteria, cantidadCritica=50, pilaDeLibros=None):\n",
        "    self.nroDeEstanteria = validaNroEstanteria(nroDeEstanteria)\n",
        "    self.cantidadCritica = validaCantidadCritica(cantidadCritica)\n",
        "    self.pilaDeLibrosNacionales = Pila()\n",
        "    self.pilaDeLibrosInternacionales = Pila()\n",
        "    if pilaDeLibros:\n",
        "      for libro in pilaDeLibros:\n",
        "        self.guardarLibro(libro)\n",
        "\n",
        "  def __repr__(self):\n",
        "    cadenaPrint = 'E' + str(self.nroDeEstanteria) + '(N:' + str(self.pilaDeLibrosNacionales.tamaño()) \\\n",
        "                  + ',I:' + str(self.pilaDeLibrosInternacionales.tamaño()) + ',CC:' + str(self.cantidadCritica) + ')'\n",
        "    return cadenaPrint\n",
        "  \n",
        "  def cantidadTotalDeLibros(self):\n",
        "    tamaño = self.pilaDeLibrosNacionales.tamaño() + self.pilaDeLibrosInternacionales.tamaño()\n",
        "    return tamaño\n",
        "\n",
        "  def esCritica(self):\n",
        "    return self.pilaDeLibrosNacionales.tamaño() > self.cantidadCritica or self.pilaDeLibrosInternacionales.tamaño() > self.cantidadCritica\n",
        "\n",
        "  def guardarLibro(self,libro):\n",
        "    if not self.esCritica():\n",
        "      if libro.nacionalidadDeAutor == Nacional:\n",
        "        self.pilaDeLibrosNacionales.apilar(libro)\n",
        "      elif libro.nacionalidadDeAutor == Internacional:\n",
        "        self.pilaDeLibrosInternacionales.apilar(libro)\n",
        "    else:\n",
        "      if libro.nacionalidadDeAutor == Nacional:\n",
        "        self.pilaDeLibrosNacionales.apilar(libro)\n",
        "      elif libro.nacionalidadDeAutor == Internacional:\n",
        "        self.pilaDeLibrosInternacionales.apilar(libro)\n",
        "      print(\"Se guardo el libro pero la capacidad de la estanteria es critica\")\n",
        "\n",
        "  def primerLibroDisponible(self):\n",
        "    primerLibro = None\n",
        "    if not self.pilaDeLibrosNacionales.esVacía():\n",
        "      primerLibro = self.pilaDeLibrosNacionales.obtener()\n",
        "    elif not self.pilaDeLibrosInternacionales.esVacía():\n",
        "      primerLibro = self.pilaDeLibrosInternacionales.obtener()\n",
        "    return primerLibro\n",
        "    \n",
        "  def libroParaRecomendar(self, generoDeLibro):\n",
        "    pilaDeLibrosNacionalesAux = self.pilaDeLibrosNacionales.clonarPila()\n",
        "    pilaDeLibrosInternacionalesAux = self.pilaDeLibrosInternacionales.clonarPila()\n",
        "    libroARevisarAhora = None\n",
        "    libroRecomendado = None\n",
        "    while not pilaDeLibrosNacionalesAux.esVacía() and not libroRecomendado:\n",
        "      libroARevisarAhora = pilaDeLibrosNacionalesAux.desapilar()\n",
        "      if libroARevisarAhora.genero == generoDeLibro:\n",
        "        libroRecomendado = libroARevisarAhora\n",
        "    while not pilaDeLibrosInternacionalesAux.esVacía() and not libroRecomendado:\n",
        "      libroARevisarAhora = pilaDeLibrosInternacionalesAux.desapilar()\n",
        "      if libroARevisarAhora.genero == generoDeLibro:\n",
        "        libroRecomendado = libroARevisarAhora\n",
        "    return libroRecomendado\n",
        "\n",
        "  def buscarLibro(self,codigoLibro):\n",
        "    pilaDeLibrosNacionalesAux = self.pilaDeLibrosNacionales.clonarPila()\n",
        "    pilaDeLibrosInternacionalesAux = self.pilaDeLibrosInternacionales.clonarPila()\n",
        "    libroARevisarAhora = None\n",
        "    libroEncontrado = None\n",
        "    while not pilaDeLibrosNacionalesAux.esVacía() and not libroEncontrado:\n",
        "      libroARevisarAhora = pilaDeLibrosNacionalesAux.desapilar()\n",
        "      if libroARevisarAhora.codigo == codigoLibro:\n",
        "        libroEncontrado = libroARevisarAhora\n",
        "    while not pilaDeLibrosInternacionalesAux.esVacía() and not libroEncontrado:\n",
        "      libroARevisarAhora = pilaDeLibrosInternacionalesAux.desapilar()\n",
        "      if libroARevisarAhora.codigo == codigoLibro:\n",
        "        libroEncontrado = libroARevisarAhora\n",
        "    return libroEncontrado\n",
        "\n",
        "  def prestarLibro(self,codigoLibro):                                    # Desapila libros de la estanteria hasta encontrarlo, luego los vuelve a apilar excepto al que presto.\n",
        "    pilaDeLibrosNacionalesDesapilados = Pila()\n",
        "    pilaDeLibrosInternacionalesDesapilados = Pila()\n",
        "    libroARevisarAhora = None\n",
        "    libroAPrestar = None\n",
        "    while not self.pilaDeLibrosNacionales.esVacía() and not libroAPrestar:        # Mientras no es vacia la pila original y no hay libro a prestar:\n",
        "      libroARevisarAhora = self.pilaDeLibrosNacionales.desapilar()                # Desapila el ultimo libro y lo pone en la variable para revisarlo\n",
        "      if libroARevisarAhora.codigo == codigoLibro:                                # Si el codigo del libro a revisar ahora coincide\n",
        "        libroAPrestar = libroARevisarAhora                                        # Lo guarda en la variable de libro a prestar\n",
        "      else:                                                                       # Sino\n",
        "        pilaDeLibrosNacionalesDesapilados.apilar(libroARevisarAhora)              # Lo guarda en la variable de libros apilados\n",
        "    while not pilaDeLibrosNacionalesDesapilados.esVacía():                        # Mientras no esta vacía la pila de libros desapilados:\n",
        "      libroQueApilar = pilaDeLibrosNacionalesDesapilados.desapilar()              # Desapila un libro de la variable auxiliar en una variable para apilar\n",
        "      self.pilaDeLibrosNacionales.apilar(libroQueApilar)                          # y lo vuelve a apilar en la pila original.\n",
        "    while not self.pilaDeLibrosInternacionales.esVacía() and not libroAPrestar:\n",
        "      libroARevisarAhora = self.pilaDeLibrosInternacionales.desapilar()\n",
        "      if libroARevisarAhora.codigo == codigoLibro:\n",
        "        libroAPrestar = libroARevisarAhora\n",
        "      else:\n",
        "        pilaDeLibrosNacionalesDesapilados.apilar(libroARevisarAhora)\n",
        "    while not pilaDeLibrosInternacionalesDesapilados.esVacía():\n",
        "      self.pilaDeLibrosInternacionales.apilar(pilaDeLibrosInternacionalesDesapilados.desapilar())\n",
        "    return libroAPrestar\n",
        "\n",
        "  def librosPorTipo(self):\n",
        "    librosNacionalesAux = self.pilaDeLibrosNacionales.clonarPila()\n",
        "    librosInternacionalesAux = self.pilaDeLibrosInternacionales.clonarPila()\n",
        "    cantidadNacionales = 0\n",
        "    cantidadInternacionales = 0\n",
        "    while not librosNacionalesAux.esVacía():\n",
        "      libroAMirar = librosNacionalesAux.desapilar()\n",
        "      cantidadNacionales += 1\n",
        "    while not librosInternacionalesAux.esVacía():\n",
        "      libroAMirar = librosInternacionalesAux.desapilar()\n",
        "      cantidadInternacionales += 1\n",
        "    return cantidadNacionales,cantidadInternacionales\n",
        "\n",
        "  def librosPorGenero(self,generoLibro):\n",
        "    librosNacionalesAux = self.pilaDeLibrosNacionales.clonarPila()\n",
        "    librosInternacionalesAux = self.pilaDeLibrosInternacionales.clonarPila()\n",
        "    cantidadDeLibros = 0\n",
        "    while not librosNacionalesAux.esVacía():\n",
        "      libroAMirar = librosNacionalesAux.desapilar()\n",
        "      if libroAMirar.genero == generoLibro:\n",
        "        cantidadDeLibros += 1\n",
        "    while not librosInternacionalesAux.esVacía():\n",
        "      libroAMirar = librosInternacionalesAux.desapilar()\n",
        "      if libroAMirar.genero == generoLibro:\n",
        "        cantidadDeLibros += 1\n",
        "    return cantidadDeLibros\n",
        "\n",
        "  def nroEstanteria(self):\n",
        "    return self.nroDeEstanteria\n",
        "\n",
        "  def porcentajeOcupaciónNacional(self):\n",
        "    return int( int(self.pilaDeLibrosNacionales.tamaño()) * 100 // int(self.cantidadCritica) )\n",
        "  \n",
        "def validaNroEstanteria(nroDeEstanteria):\n",
        "  if isinstance(nroDeEstanteria,int) and nroDeEstanteria <= 999:\n",
        "    return nroDeEstanteria\n",
        "  else:\n",
        "    raise Exception('El número de estanteria debe estar comprendido entre 0 y 999')\n",
        "\n",
        "def validaCantidadCritica(cantidadCritica):\n",
        "  if isinstance(cantidadCritica,int):\n",
        "    return cantidadCritica\n",
        "  else:\n",
        "    raise Exception('La cantidad critica debe ser un número entero.')\n",
        "    "
      ],
      "execution_count": 45,
      "outputs": []
    },
    {
      "cell_type": "markdown",
      "metadata": {
        "id": "02FCd6DtPxo6"
      },
      "source": [
        "# Implementación del TDA Cola"
      ]
    },
    {
      "cell_type": "code",
      "metadata": {
        "id": "u5vCVifFNJdb"
      },
      "source": [
        "class Cola:\n",
        "  def __init__(self,elemento = None):\n",
        "    self.cola = []\n",
        "    if elemento:\n",
        "      for dato in elemento:\n",
        "        self.cola.append(dato)\n",
        "\n",
        "  def vaciar(self):\n",
        "    for elemento in range(len(self.cola)):\n",
        "      self.cola.pop()\n",
        "\n",
        "  def encolar(self,elemento):\n",
        "    self.cola.insert(0,elemento)\n",
        "\n",
        "  def desencolar(self):\n",
        "    if not len(self.cola) == 0:\n",
        "      return self.cola.pop()\n",
        "\n",
        "  def obtener(self):\n",
        "    return self.cola[self.tamañoCola() -1]\n",
        "\n",
        "  def clonar(self):\n",
        "    listaAux = []\n",
        "    for elemento in self.cola:\n",
        "      listaAux += [elemento]\n",
        "    clonDeCola = Cola(listaAux)\n",
        "    return clonDeCola\n",
        "\n",
        "  def tamañoCola(self):\n",
        "    return len(self.cola)\n",
        "\n",
        "  def esVacía(self):\n",
        "    return len(self.cola) == 0\n",
        "\n",
        "  def __repr__(self):\n",
        "    return str(self.cola)"
      ],
      "execution_count": 46,
      "outputs": []
    },
    {
      "cell_type": "markdown",
      "metadata": {
        "id": "1Cg03-DzP5fH"
      },
      "source": [
        "# Implementación del TDA EscritorioDeAtención"
      ]
    },
    {
      "cell_type": "code",
      "metadata": {
        "id": "p2ZW8VHA6wOC"
      },
      "source": [
        "import numpy as np\n",
        " \n",
        "class EscritorioDeAtencion():\n",
        "  def __init__(self,cantidadDeFilas,cantidadDeColumnas):\n",
        "    self.deposito = np.zeros([cantidadDeFilas,cantidadDeColumnas],dtype=object)\n",
        "    for nroFila in range(cantidadDeFilas):\n",
        "      for nroColumna in range(cantidadDeColumnas):\n",
        "        self.deposito[nroFila,nroColumna] = None\n",
        " \n",
        "  def __repr__(self):\n",
        "    return str(self.deposito)\n",
        " \n",
        "  def establecerEstanteria(self,nroFila, nroColumna, estanteria):\n",
        "    self.deposito[nroFila,nroColumna] = estanteria\n",
        "\n",
        "  def cantidadDeEstanteriasCriticas(self,nroFila,nroColumna=0):\n",
        "    cantidadDefilas,cantidadDeColumnas = self.deposito.shape\n",
        "    if nroColumna == cantidadDeColumnas-1:\n",
        "      if self.deposito[nroFila,nroColumna] and self.deposito[nroFila,nroColumna].esCritica():\n",
        "        estanteriasCriticas = 1\n",
        "      else:\n",
        "        estanteriasCriticas = 0\n",
        "    else:\n",
        "      if self.deposito[nroFila,nroColumna] and self.deposito[nroFila,nroColumna].esCritica():\n",
        "        estanteriasCriticas = 1 + self.cantidadDeEstanteriasCriticas(nroFila,nroColumna +1)\n",
        "      else:\n",
        "        estanteriasCriticas = 0 + self.cantidadDeEstanteriasCriticas(nroFila,nroColumna +1)\n",
        "    return estanteriasCriticas\n",
        "\n",
        "  def estanteriaMenosRecargada(self):\n",
        "    nroFila,nroColumna = self.deposito.shape\n",
        "    mejorEstanteriaFila,mejorEstanteriaColumna = None,None\n",
        "    mejorPorcentajeOcupación = 100\n",
        "    for posFila in range(nroFila):\n",
        "      for posColumna in range(nroColumna):\n",
        "        if self.deposito[posFila,posColumna]:\n",
        "          if self.deposito[posFila,posColumna].porcentajeOcupaciónNacional() < mejorPorcentajeOcupación:\n",
        "            mejorPorcentajeOcupación = self.deposito[posFila,posColumna].porcentajeOcupaciónNacional() \n",
        "            mejorEstanteriaFila,mejorEstanteriaColumna = posFila,posColumna\n",
        "    return mejorEstanteriaFila,mejorEstanteriaColumna\n",
        "\n",
        "  def buscaEstanteria(self,nroEstanteria):\n",
        "    nroFila,nroColumna = self.deposito.shape\n",
        "    resultadoFila,resultadoColumna = None,None\n",
        "    for posFila in range(nroFila):\n",
        "      for posColumna in range(nroColumna):\n",
        "        if self.deposito[posFila,posColumna] and self.deposito[posFila,posColumna].nroEstanteria() == nroEstanteria:\n",
        "          resultadoFila,resultadoColumna = posFila,posColumna\n",
        "    return resultadoFila,resultadoColumna\n",
        "\n",
        "  def guardarLibros(self,colaDelibros):\n",
        "    librosAGuardar = colaDelibros.clonar()\n",
        "    while not librosAGuardar.esVacía():\n",
        "      self.deposito[self.estanteriaMenosRecargada()].guardarLibro(librosAGuardar.desencolar())\n",
        "\n",
        "  def sacarLibros(self,colaDeLibros):\n",
        "    nroFila,nroColumna = self.deposito.shape\n",
        "    colaCodigos = colaDeLibros.clonar()\n",
        "    colaEncontrados = Cola()\n",
        "    for posFila in range(nroFila):\n",
        "      for posColumna in range(nroColumna):\n",
        "        cantidadDeCodigosABuscarAcá = colaCodigos.tamañoCola()\n",
        "        while self.deposito[posFila,posColumna] and cantidadDeCodigosABuscarAcá > 0:\n",
        "          libroEncontrado = self.deposito[posFila,posColumna].buscarLibro(colaCodigos.obtener())\n",
        "          if libroEncontrado:\n",
        "            colaEncontrados.encolar(libroEncontrado)\n",
        "            colaCodigos.desencolar()\n",
        "            libroEncontrado = None\n",
        "          else:\n",
        "            codigoNoEncontrado = colaCodigos.desencolar()\n",
        "            colaCodigos.encolar(codigoNoEncontrado)\n",
        "          cantidadDeCodigosABuscarAcá -= 1\n",
        "    return colaEncontrados\n",
        "\n",
        "  def moverLibro(self,codigoLibro, nroEstanteriaOrigen, nroEstanteriaDestino):\n",
        "    nroFila,nroColumna = self.deposito.shape\n",
        "    libroAMover = None\n",
        "    for posFila in range(nroFila):\n",
        "      for posColumna in range(nroColumna):\n",
        "        if self.deposito[posFila,posColumna] and self.deposito[posFila,posColumna].nroEstanteria() == nroEstanteriaOrigen:\n",
        "          libroAMover = self.deposito[posFila,posColumna].prestarLibro(codigoLibro)\n",
        "    for posFila in range(nroFila):\n",
        "      for posColumna in range(nroColumna):\n",
        "        if libroAMover and self.deposito[posFila,posColumna] and self.deposito[posFila,posColumna].nroEstanteria() == nroEstanteriaDestino:\n",
        "          self.deposito[posFila,posColumna].guardarLibro(libroAMover)"
      ],
      "execution_count": 47,
      "outputs": []
    },
    {
      "cell_type": "markdown",
      "metadata": {
        "id": "NGrxJXsaIn_Q"
      },
      "source": [
        "# Entrega\n",
        "La entrega del trabajo práctico debe ser:\n",
        "\n",
        "Un informe escrito (doc, pdf. etc), incluyendo:\n",
        "\n",
        "Descripción de cada una de las estructuras de datos diseñadas e implementadas.\n",
        "Incluir una descripción escrita de los algoritmos. Pueden incluir diagramas de fujo.\n",
        "\n",
        "Descripción de la implementación en Python. Explicar claramente que hace cada función y procedimiento implementados.\n",
        "\n",
        "Código completo y comentado de la implementación.\n",
        "\n",
        "Opcional: Video explicando cómo funciona el algoritmo."
      ]
    }
  ]
}